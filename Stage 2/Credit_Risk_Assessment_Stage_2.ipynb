{
  "cells": [
    {
      "cell_type": "code",
      "execution_count": null,
      "metadata": {
        "colab": {
          "base_uri": "https://localhost:8080/"
        },
        "id": "t-K386SEjCej",
        "outputId": "e707a63b-e982-4259-b6c7-02a368df5e17"
      },
      "outputs": [
        {
          "output_type": "stream",
          "name": "stderr",
          "text": [
            "Installing packages into ‘/usr/local/lib/R/site-library’\n",
            "(as ‘lib’ is unspecified)\n",
            "\n",
            "Warning message:\n",
            "“package ‘stats’ is a base package, and should not be updated”\n",
            "also installing the dependencies ‘listenv’, ‘parallelly’, ‘future’, ‘globals’, ‘shape’, ‘future.apply’, ‘numDeriv’, ‘progressr’, ‘SQUAREM’, ‘diagram’, ‘lava’, ‘prodlim’, ‘iterators’, ‘gower’, ‘hardhat’, ‘ipred’, ‘sparsevctrs’, ‘timeDate’, ‘clock’, ‘rapidjsonr’, ‘foreach’, ‘ModelMetrics’, ‘plyr’, ‘recipes’, ‘reshape2’, ‘proxy’\n",
            "\n",
            "\n"
          ]
        }
      ],
      "source": [
        "install.packages(c(\"DBI\", \"bigrquery\", \"dplyr\", \"ggplot2\", \"caret\", \"e1071\", \"pROC\", \"stats\", \"corrplot\"))"
      ]
    },
    {
      "cell_type": "code",
      "execution_count": null,
      "metadata": {
        "id": "M6nCbQv4kaqq"
      },
      "outputs": [],
      "source": [
        "library(bigrquery)"
      ]
    },
    {
      "cell_type": "code",
      "execution_count": null,
      "metadata": {
        "colab": {
          "base_uri": "https://localhost:8080/"
        },
        "id": "nD3uOEA8mRuk",
        "outputId": "163e50a5-cdb9-499b-d582-663200ef8cdd"
      },
      "outputs": [
        {
          "output_type": "stream",
          "name": "stderr",
          "text": [
            "\u001b[1m\u001b[22mIs it OK to cache OAuth access credentials in the folder \u001b[34m~/.cache/gargle\u001b[39m\n",
            "between R sessions?\n",
            "\u001b[1m1\u001b[22m: Yes\n",
            "\u001b[1m2\u001b[22m: No\n"
          ]
        },
        {
          "name": "stdout",
          "output_type": "stream",
          "text": [
            "Selection: 1\n"
          ]
        },
        {
          "output_type": "stream",
          "name": "stderr",
          "text": [
            "Please point your browser to the following url: \n",
            "\n",
            "https://accounts.google.com/o/oauth2/v2/auth?client_id=603366585132-frjlouoa3s2ono25d2l9ukvhlsrlnr7k.apps.googleusercontent.com&scope=https%3A%2F%2Fwww.googleapis.com%2Fauth%2Fbigquery%20https%3A%2F%2Fwww.googleapis.com%2Fauth%2Fcloud-platform%20https%3A%2F%2Fwww.googleapis.com%2Fauth%2Fuserinfo.email&redirect_uri=https%3A%2F%2Fwww.tidyverse.org%2Fgoogle-callback%2F&response_type=code&state=7a3892eea848a623cdcde9efb07897a3&access_type=offline&prompt=consent\n",
            "\n"
          ]
        },
        {
          "name": "stdout",
          "output_type": "stream",
          "text": [
            "Enter authorization code: eyJjb2RlIjoiNC8wQVZNQnNKaVFZZDJ1Zl9nWEhrYmc2a0daVlRPeG9UcktQRF9FUkY0R2hOcF8yZEJub3BZamtCd2thTzdMdTRMcldnMzRMdyIsInN0YXRlIjoiN2EzODkyZWVhODQ4YTYyM2NkY2RlOWVmYjA3ODk3YTMifQ==\n"
          ]
        }
      ],
      "source": [
        "bq_auth()\n"
      ]
    },
    {
      "cell_type": "code",
      "execution_count": null,
      "metadata": {
        "id": "HjrDajS1mlLj",
        "colab": {
          "base_uri": "https://localhost:8080/",
          "height": 1000
        },
        "outputId": "4064b669-7259-483d-fb3d-332d52086615"
      },
      "outputs": [
        {
          "output_type": "stream",
          "name": "stderr",
          "text": [
            "\n",
            "Attaching package: ‘dplyr’\n",
            "\n",
            "\n",
            "The following objects are masked from ‘package:stats’:\n",
            "\n",
            "    filter, lag\n",
            "\n",
            "\n",
            "The following objects are masked from ‘package:base’:\n",
            "\n",
            "    intersect, setdiff, setequal, union\n",
            "\n",
            "\n",
            "Loading required package: lattice\n",
            "\n",
            "Type 'citation(\"pROC\")' for a citation.\n",
            "\n",
            "\n",
            "Attaching package: ‘pROC’\n",
            "\n",
            "\n",
            "The following objects are masked from ‘package:stats’:\n",
            "\n",
            "    cov, smooth, var\n",
            "\n",
            "\n",
            "corrplot 0.95 loaded\n",
            "\n"
          ]
        },
        {
          "output_type": "display_data",
          "data": {
            "text/html": [
              "<table class=\"dataframe\">\n",
              "<caption>A tibble: 6 × 13</caption>\n",
              "<thead>\n",
              "\t<tr><th scope=col>Age</th><th scope=col>Sex</th><th scope=col>Job</th><th scope=col>Housing</th><th scope=col>SavingAccountsStatus</th><th scope=col>CheckingAccountStatus</th><th scope=col>LoanAmount</th><th scope=col>LoanDuration</th><th scope=col>Purpose</th><th scope=col>RiskStatus</th><th scope=col>AgeGroup</th><th scope=col>LoanDurationCategory</th><th scope=col>IsDefault</th></tr>\n",
              "\t<tr><th scope=col>&lt;int&gt;</th><th scope=col>&lt;chr&gt;</th><th scope=col>&lt;int&gt;</th><th scope=col>&lt;chr&gt;</th><th scope=col>&lt;chr&gt;</th><th scope=col>&lt;chr&gt;</th><th scope=col>&lt;int&gt;</th><th scope=col>&lt;int&gt;</th><th scope=col>&lt;chr&gt;</th><th scope=col>&lt;chr&gt;</th><th scope=col>&lt;chr&gt;</th><th scope=col>&lt;chr&gt;</th><th scope=col>&lt;int&gt;</th></tr>\n",
              "</thead>\n",
              "<tbody>\n",
              "\t<tr><td>19</td><td>female</td><td>2</td><td>rent</td><td>little</td><td><span style=white-space:pre-wrap>NA      </span></td><td>1980</td><td> 9</td><td>furniture/equipment</td><td>bad </td><td>18-24</td><td>Short (&lt;=12 months)</td><td>1</td></tr>\n",
              "\t<tr><td>19</td><td>female</td><td>1</td><td>rent</td><td><span style=white-space:pre-wrap>rich  </span></td><td>moderate</td><td> 983</td><td>12</td><td>furniture/equipment</td><td>good</td><td>18-24</td><td>Short (&lt;=12 months)</td><td>0</td></tr>\n",
              "\t<tr><td>20</td><td><span style=white-space:pre-wrap>male  </span></td><td>2</td><td>own </td><td>little</td><td><span style=white-space:pre-wrap>NA      </span></td><td>1313</td><td> 9</td><td>furniture/equipment</td><td>good</td><td>18-24</td><td>Short (&lt;=12 months)</td><td>0</td></tr>\n",
              "\t<tr><td>20</td><td>female</td><td>2</td><td>own </td><td><span style=white-space:pre-wrap>rich  </span></td><td>moderate</td><td>1577</td><td>11</td><td>furniture/equipment</td><td>good</td><td>18-24</td><td>Short (&lt;=12 months)</td><td>0</td></tr>\n",
              "\t<tr><td>20</td><td><span style=white-space:pre-wrap>male  </span></td><td>3</td><td>rent</td><td>little</td><td><span style=white-space:pre-wrap>little  </span></td><td>1107</td><td>12</td><td><span style=white-space:pre-wrap>radio/TV           </span></td><td>good</td><td>18-24</td><td>Short (&lt;=12 months)</td><td>0</td></tr>\n",
              "\t<tr><td>20</td><td>female</td><td>2</td><td>rent</td><td><span style=white-space:pre-wrap>NA    </span></td><td><span style=white-space:pre-wrap>NA      </span></td><td>4675</td><td>12</td><td><span style=white-space:pre-wrap>car                </span></td><td>good</td><td>18-24</td><td>Short (&lt;=12 months)</td><td>0</td></tr>\n",
              "</tbody>\n",
              "</table>\n"
            ],
            "text/markdown": "\nA tibble: 6 × 13\n\n| Age &lt;int&gt; | Sex &lt;chr&gt; | Job &lt;int&gt; | Housing &lt;chr&gt; | SavingAccountsStatus &lt;chr&gt; | CheckingAccountStatus &lt;chr&gt; | LoanAmount &lt;int&gt; | LoanDuration &lt;int&gt; | Purpose &lt;chr&gt; | RiskStatus &lt;chr&gt; | AgeGroup &lt;chr&gt; | LoanDurationCategory &lt;chr&gt; | IsDefault &lt;int&gt; |\n|---|---|---|---|---|---|---|---|---|---|---|---|---|\n| 19 | female | 2 | rent | little | NA       | 1980 |  9 | furniture/equipment | bad  | 18-24 | Short (&lt;=12 months) | 1 |\n| 19 | female | 1 | rent | rich   | moderate |  983 | 12 | furniture/equipment | good | 18-24 | Short (&lt;=12 months) | 0 |\n| 20 | male   | 2 | own  | little | NA       | 1313 |  9 | furniture/equipment | good | 18-24 | Short (&lt;=12 months) | 0 |\n| 20 | female | 2 | own  | rich   | moderate | 1577 | 11 | furniture/equipment | good | 18-24 | Short (&lt;=12 months) | 0 |\n| 20 | male   | 3 | rent | little | little   | 1107 | 12 | radio/TV            | good | 18-24 | Short (&lt;=12 months) | 0 |\n| 20 | female | 2 | rent | NA     | NA       | 4675 | 12 | car                 | good | 18-24 | Short (&lt;=12 months) | 0 |\n\n",
            "text/latex": "A tibble: 6 × 13\n\\begin{tabular}{lllllllllllll}\n Age & Sex & Job & Housing & SavingAccountsStatus & CheckingAccountStatus & LoanAmount & LoanDuration & Purpose & RiskStatus & AgeGroup & LoanDurationCategory & IsDefault\\\\\n <int> & <chr> & <int> & <chr> & <chr> & <chr> & <int> & <int> & <chr> & <chr> & <chr> & <chr> & <int>\\\\\n\\hline\n\t 19 & female & 2 & rent & little & NA       & 1980 &  9 & furniture/equipment & bad  & 18-24 & Short (<=12 months) & 1\\\\\n\t 19 & female & 1 & rent & rich   & moderate &  983 & 12 & furniture/equipment & good & 18-24 & Short (<=12 months) & 0\\\\\n\t 20 & male   & 2 & own  & little & NA       & 1313 &  9 & furniture/equipment & good & 18-24 & Short (<=12 months) & 0\\\\\n\t 20 & female & 2 & own  & rich   & moderate & 1577 & 11 & furniture/equipment & good & 18-24 & Short (<=12 months) & 0\\\\\n\t 20 & male   & 3 & rent & little & little   & 1107 & 12 & radio/TV            & good & 18-24 & Short (<=12 months) & 0\\\\\n\t 20 & female & 2 & rent & NA     & NA       & 4675 & 12 & car                 & good & 18-24 & Short (<=12 months) & 0\\\\\n\\end{tabular}\n",
            "text/plain": [
              "  Age Sex    Job Housing SavingAccountsStatus CheckingAccountStatus LoanAmount\n",
              "1 19  female 2   rent    little               NA                    1980      \n",
              "2 19  female 1   rent    rich                 moderate               983      \n",
              "3 20  male   2   own     little               NA                    1313      \n",
              "4 20  female 2   own     rich                 moderate              1577      \n",
              "5 20  male   3   rent    little               little                1107      \n",
              "6 20  female 2   rent    NA                   NA                    4675      \n",
              "  LoanDuration Purpose             RiskStatus AgeGroup LoanDurationCategory\n",
              "1  9           furniture/equipment bad        18-24    Short (<=12 months) \n",
              "2 12           furniture/equipment good       18-24    Short (<=12 months) \n",
              "3  9           furniture/equipment good       18-24    Short (<=12 months) \n",
              "4 11           furniture/equipment good       18-24    Short (<=12 months) \n",
              "5 12           radio/TV            good       18-24    Short (<=12 months) \n",
              "6 12           car                 good       18-24    Short (<=12 months) \n",
              "  IsDefault\n",
              "1 1        \n",
              "2 0        \n",
              "3 0        \n",
              "4 0        \n",
              "5 0        \n",
              "6 0        "
            ]
          },
          "metadata": {}
        },
        {
          "output_type": "stream",
          "name": "stdout",
          "text": [
            "tibble [1,000 × 13] (S3: tbl_df/tbl/data.frame)\n",
            " $ Age                  : int [1:1000] 19 19 20 20 20 20 20 20 20 20 ...\n",
            " $ Sex                  : chr [1:1000] \"female\" \"female\" \"male\" \"female\" ...\n",
            " $ Job                  : int [1:1000] 2 1 2 2 3 2 2 2 2 2 ...\n",
            " $ Housing              : chr [1:1000] \"rent\" \"rent\" \"own\" \"own\" ...\n",
            " $ SavingAccountsStatus : chr [1:1000] \"little\" \"rich\" \"little\" \"rich\" ...\n",
            " $ CheckingAccountStatus: chr [1:1000] \"NA\" \"moderate\" \"NA\" \"moderate\" ...\n",
            " $ LoanAmount           : int [1:1000] 1980 983 1313 1577 1107 4675 1282 585 674 2221 ...\n",
            " $ LoanDuration         : int [1:1000] 9 12 9 11 12 12 12 12 12 15 ...\n",
            " $ Purpose              : chr [1:1000] \"furniture/equipment\" \"furniture/equipment\" \"furniture/equipment\" \"furniture/equipment\" ...\n",
            " $ RiskStatus           : chr [1:1000] \"bad\" \"good\" \"good\" \"good\" ...\n",
            " $ AgeGroup             : chr [1:1000] \"18-24\" \"18-24\" \"18-24\" \"18-24\" ...\n",
            " $ LoanDurationCategory : chr [1:1000] \"Short (<=12 months)\" \"Short (<=12 months)\" \"Short (<=12 months)\" \"Short (<=12 months)\" ...\n",
            " $ IsDefault            : int [1:1000] 1 0 0 0 0 0 1 0 1 0 ...\n"
          ]
        },
        {
          "output_type": "display_data",
          "data": {
            "text/plain": [
              "      Age            Sex                 Job          Housing         \n",
              " Min.   :19.00   Length:1000        Min.   :0.000   Length:1000       \n",
              " 1st Qu.:27.00   Class :character   1st Qu.:2.000   Class :character  \n",
              " Median :33.00   Mode  :character   Median :2.000   Mode  :character  \n",
              " Mean   :35.55                      Mean   :1.904                     \n",
              " 3rd Qu.:42.00                      3rd Qu.:2.000                     \n",
              " Max.   :75.00                      Max.   :3.000                     \n",
              " SavingAccountsStatus CheckingAccountStatus   LoanAmount     LoanDuration \n",
              " Length:1000          Length:1000           Min.   :  250   Min.   : 4.0  \n",
              " Class :character     Class :character      1st Qu.: 1366   1st Qu.:12.0  \n",
              " Mode  :character     Mode  :character      Median : 2320   Median :18.0  \n",
              "                                            Mean   : 3271   Mean   :20.9  \n",
              "                                            3rd Qu.: 3972   3rd Qu.:24.0  \n",
              "                                            Max.   :18424   Max.   :72.0  \n",
              "   Purpose           RiskStatus          AgeGroup         LoanDurationCategory\n",
              " Length:1000        Length:1000        Length:1000        Length:1000         \n",
              " Class :character   Class :character   Class :character   Class :character    \n",
              " Mode  :character   Mode  :character   Mode  :character   Mode  :character    \n",
              "                                                                              \n",
              "                                                                              \n",
              "                                                                              \n",
              "   IsDefault  \n",
              " Min.   :0.0  \n",
              " 1st Qu.:0.0  \n",
              " Median :0.0  \n",
              " Mean   :0.3  \n",
              " 3rd Qu.:1.0  \n",
              " Max.   :1.0  "
            ]
          },
          "metadata": {}
        }
      ],
      "source": [
        "# Load necessary libraries\n",
        "library(DBI)\n",
        "library(bigrquery)\n",
        "library(dplyr)\n",
        "library(ggplot2)\n",
        "library(caret)\n",
        "library(e1071) # For confusionMatrix\n",
        "library(pROC)  # For ROC curve and AUC\n",
        "library(stats) # For t.test, chisq.test\n",
        "library(corrplot) # For correlation plots\n",
        "\n",
        "# Set your Google Cloud Project ID\n",
        "project_id <- \"credit-risk-prediction-project\"\n",
        "\n",
        "# Authenticate (this will prompt you to open a browser for authentication)\n",
        "# If it asks for a token, copy-paste it from the browser.\n",
        "# On Colab R runtime, this usually works automatically with your logged-in Google account.\n",
        "# bq_auth(email = \"your-google-email@example.com\") # Optional, if you have issues\n",
        "\n",
        "# Connect to BigQuery\n",
        "con <- dbConnect(\n",
        "  bigrquery::bigquery(),\n",
        "  project = project_id,\n",
        "  dataset = \"credit_data\" # Your dataset name\n",
        ")\n",
        "\n",
        "# Pull the cleaned data into an R DataFrame\n",
        "query <- \"SELECT * FROM `credit-risk-prediction-project.credit_data.german_credit_cleaned_sql`\"\n",
        "german_credit_df <- dbGetQuery(con, query)\n",
        "\n",
        "# Disconnect from BigQuery (good practice)\n",
        "dbDisconnect(con)\n",
        "\n",
        "# Display the first few rows and structure of the data\n",
        "head(german_credit_df)\n",
        "str(german_credit_df)\n",
        "summary(german_credit_df)"
      ]
    },
    {
      "cell_type": "code",
      "execution_count": null,
      "metadata": {
        "id": "eXK-JnEMm33I"
      },
      "outputs": [],
      "source": [
        "german_credit_df$IsDefault <- factor(german_credit_df$IsDefault, levels = c(0, 1), labels = c(\"Good\", \"Default\"))"
      ]
    },
    {
      "cell_type": "code",
      "execution_count": null,
      "metadata": {
        "id": "SPnjXACSm-Ee",
        "colab": {
          "base_uri": "https://localhost:8080/",
          "height": 437
        },
        "outputId": "4e3e521d-47eb-4e6e-a3b4-0c0854d84812"
      },
      "outputs": [
        {
          "output_type": "display_data",
          "data": {
            "text/plain": [
              "plot without title"
            ],
            "image/png": "[encoded data removed]"
          },
          "metadata": {
            "image/png": {
              "width": 420,
              "height": 420
            }
          }
        }
      ],
      "source": [
        "ggplot(german_credit_df, aes(x = LoanAmount, fill = IsDefault)) +\n",
        "  geom_density(alpha = 0.6) +\n",
        "  labs(title = \"Distribution of Loan Amount by Credit Risk\",\n",
        "       x = \"Loan Amount\",\n",
        "       y = \"Density\",\n",
        "       fill = \"Credit Risk\") +\n",
        "  theme_minimal()"
      ]
    },
    {
      "cell_type": "code",
      "execution_count": null,
      "metadata": {
        "id": "3IsxnD7knOk9",
        "colab": {
          "base_uri": "https://localhost:8080/",
          "height": 1000
        },
        "outputId": "6a02b924-4c85-4853-cacd-3aea255ad15a"
      },
      "outputs": [
        {
          "output_type": "display_data",
          "data": {
            "text/plain": [
              "plot without title"
            ],
            "image/png": "[encoded data removed]"
          },
          "metadata": {
            "image/png": {
              "width": 420,
              "height": 420
            }
          }
        },
        {
          "output_type": "display_data",
          "data": {
            "text/plain": [
              "plot without title"
            ],
            "image/png": "[encoded data removed]"
          },
          "metadata": {
            "image/png": {
              "width": 420,
              "height": 420
            }
          }
        },
        {
          "output_type": "display_data",
          "data": {
            "text/plain": [
              "plot without title"
            ],
            "image/png": "[encoded data removed]"
          },
          "metadata": {
            "image/png": {
              "width": 420,
              "height": 420
            }
          }
        }
      ],
      "source": [
        "# Example: Checking Account Status\n",
        "ggplot(german_credit_df, aes(x = CheckingAccountStatus, fill = IsDefault)) +\n",
        "  geom_bar(position = \"fill\") + # \"fill\" makes it a percentage stack\n",
        "  labs(title = \"Default Rate by Checking Account Status\",\n",
        "       x = \"Checking Account Status\",\n",
        "       y = \"Proportion\",\n",
        "       fill = \"Credit Risk\") +\n",
        "  theme_minimal() +\n",
        "  theme(axis.text.x = element_text(angle = 45, hjust = 1))\n",
        "\n",
        "# Example: Purpose\n",
        "ggplot(german_credit_df, aes(x = Purpose, fill = IsDefault)) +\n",
        "  geom_bar(position = \"fill\") +\n",
        "  labs(title = \"Default Rate by Loan Purpose\",\n",
        "       x = \"Loan Purpose\",\n",
        "       y = \"Proportion\",\n",
        "       fill = \"Credit Risk\") +\n",
        "  theme_minimal() +\n",
        "  theme(axis.text.x = element_text(angle = 45, hjust = 1))\n",
        "\n",
        "# New Plot: Default Rate by Sex\n",
        "ggplot(german_credit_df, aes(x = Sex, fill = IsDefault)) +\n",
        "  geom_bar(position = \"fill\") +\n",
        "  labs(title = \"Default Rate by Sex\",\n",
        "       x = \"Sex\",\n",
        "       y = \"Proportion\",\n",
        "       fill = \"Credit Risk\") +\n",
        "  theme_minimal()"
      ]
    },
    {
      "cell_type": "code",
      "execution_count": null,
      "metadata": {
        "id": "wa-ysCQjncyu",
        "colab": {
          "base_uri": "https://localhost:8080/",
          "height": 437
        },
        "outputId": "db40c3de-195d-4355-8490-c92cfc2fa86e"
      },
      "outputs": [
        {
          "output_type": "display_data",
          "data": {
            "text/plain": [
              "Plot with title “”"
            ],
            "image/png": "[encoded data removed]"
          },
          "metadata": {
            "image/png": {
              "width": 420,
              "height": 420
            }
          }
        }
      ],
      "source": [
        "# Select only numeric columns\n",
        "numeric_cols <- select_if(german_credit_df, is.numeric)\n",
        "corrplot(cor(numeric_cols, use = \"pairwise.complete.obs\"), method = \"circle\", type = \"upper\", tl.col = \"black\", tl.srt = 45)"
      ]
    },
    {
      "cell_type": "code",
      "execution_count": null,
      "metadata": {
        "id": "KmYQ3O6OnsJe",
        "colab": {
          "base_uri": "https://localhost:8080/"
        },
        "outputId": "02966112-3ecd-40ab-c962-4f107706d16f"
      },
      "outputs": [
        {
          "output_type": "stream",
          "name": "stdout",
          "text": [
            "\n",
            "\tWelch Two Sample t-test\n",
            "\n",
            "data:  LoanAmount by IsDefault\n",
            "t = -4.2642, df = 421.86, p-value = 2.478e-05\n",
            "alternative hypothesis: true difference in means between group Good and group Default is not equal to 0\n",
            "95 percent confidence interval:\n",
            " -1391.805  -513.534\n",
            "sample estimates:\n",
            "   mean in group Good mean in group Default \n",
            "             2985.457              3938.127 \n",
            "\n"
          ]
        }
      ],
      "source": [
        "# Prepare data for t-test: Ensure IsDefault is a factor with exactly two levels and no NAs.\n",
        "# `german_credit_df$IsDefault` should already be a factor (Good/Default) from Phase 2.2.\n",
        "df_for_t_test <- german_credit_df %>%\n",
        "  filter(!is.na(IsDefault)) %>% # Remove rows where IsDefault is NA (should be none if data is clean)\n",
        "  droplevels() # Drop any unused levels, ensuring exactly two levels (Good, Default)\n",
        "\n",
        "# IMPORTANT: Check if there are still exactly two levels after preprocessing.\n",
        "# This diagnostic helps confirm the data's readiness for the t-test.\n",
        "num_levels <- nlevels(df_for_t_test$IsDefault)\n",
        "if (num_levels != 2) {\n",
        "  print(paste(\"Warning: IsDefault factor has\", num_levels, \"levels after preprocessing. It must have exactly 2 levels for t-test.\"))\n",
        "  print(\"Counts of each level:\")\n",
        "  print(table(df_for_t_test$IsDefault)) # This will show which levels are present and their counts.\n",
        "} else {\n",
        "  # Perform t-test only if there are exactly 2 levels.\n",
        "  t_test_loan_amount <- t.test(LoanAmount ~ IsDefault, data = df_for_t_test)\n",
        "  print(t_test_loan_amount)\n",
        "  # Interpretation: Look at the p-value. If p < 0.05, the difference is statistically significant.\n",
        "}"
      ]
    },
    {
      "cell_type": "code",
      "execution_count": null,
      "metadata": {
        "id": "5f769cdd",
        "colab": {
          "base_uri": "https://localhost:8080/",
          "height": 72
        },
        "outputId": "90c0f525-6abd-4b2a-d24a-2e95905c6a38"
      },
      "outputs": [
        {
          "output_type": "display_data",
          "data": {
            "text/plain": [
              "\n",
              "   Good Default \n",
              "    700     300 "
            ]
          },
          "metadata": {}
        }
      ],
      "source": [
        "# Check the unique values and their counts in the IsDefault column\n",
        "table(df_for_t_test$IsDefault)"
      ]
    },
    {
      "cell_type": "code",
      "execution_count": null,
      "metadata": {
        "id": "1P2-oNdEDlZ4",
        "colab": {
          "base_uri": "https://localhost:8080/"
        },
        "outputId": "82c279f7-4141-4166-fc39-a430fcfca1d2"
      },
      "outputs": [
        {
          "output_type": "stream",
          "name": "stdout",
          "text": [
            "\n",
            "\tPearson's Chi-squared test\n",
            "\n",
            "data:  table(german_credit_df$CheckingAccountStatus, german_credit_df$IsDefault)\n",
            "X-squared = 123.72, df = 3, p-value < 2.2e-16\n",
            "\n"
          ]
        }
      ],
      "source": [
        "chi_sq_checking_account <- chisq.test(table(german_credit_df$CheckingAccountStatus, german_credit_df$IsDefault))\n",
        "print(chi_sq_checking_account)\n",
        "# Interpretation: If p < 0.05, there's a statistically significant association."
      ]
    },
    {
      "cell_type": "code",
      "execution_count": null,
      "metadata": {
        "id": "qtJye3snDm6a",
        "colab": {
          "base_uri": "https://localhost:8080/"
        },
        "outputId": "39e4ee17-619c-4861-dbb6-5e07a317ac3e"
      },
      "outputs": [
        {
          "output_type": "stream",
          "name": "stdout",
          "text": [
            "\n",
            "\tPearson's Chi-squared test with Yates' continuity correction\n",
            "\n",
            "data:  table(german_credit_df$Sex, german_credit_df$IsDefault)\n",
            "X-squared = 5.3485, df = 1, p-value = 0.02074\n",
            "\n"
          ]
        }
      ],
      "source": [
        "chi_sq_sex <- chisq.test(table(german_credit_df$Sex, german_credit_df$IsDefault))\n",
        "print(chi_sq_sex)\n",
        "# Interpretation: If p < 0.05, there's a statistically significant association."
      ]
    },
    {
      "cell_type": "code",
      "execution_count": null,
      "metadata": {
        "id": "mFfJ_YToDsrn"
      },
      "outputs": [],
      "source": [
        "# Example: Interaction between LoanDuration and LoanAmount\n",
        "german_credit_df$LoanDuration_LoanAmount_Interaction <- german_credit_df$LoanDuration * german_credit_df$LoanAmount"
      ]
    },
    {
      "cell_type": "code",
      "execution_count": null,
      "metadata": {
        "id": "OUvHXzAuDtqs"
      },
      "outputs": [],
      "source": [
        "# Example: For a few categorical variables\n",
        "# library(fastDummies)\n",
        "# german_credit_df_dummies <- dummy_cols(german_credit_df,\n",
        "#                                       select_columns = c(\"CheckingAccountStatus\", \"Purpose\"),\n",
        "#                                       remove_first_dummy = TRUE) # Remove one to avoid multicollinearity"
      ]
    },
    {
      "cell_type": "code",
      "execution_count": null,
      "metadata": {
        "id": "qJNQWPBwED6E"
      },
      "outputs": [],
      "source": [
        "set.seed(123) # For reproducibility\n",
        "index <- createDataPartition(german_credit_df$IsDefault, p = 0.8, list = FALSE)\n",
        "train_df <- german_credit_df[index, ]\n",
        "test_df <- german_credit_df[-index, ]"
      ]
    },
    {
      "cell_type": "code",
      "execution_count": null,
      "metadata": {
        "id": "k05YxDhAEGBM",
        "colab": {
          "base_uri": "https://localhost:8080/",
          "height": 1000
        },
        "outputId": "26a0edd9-244b-4441-da24-c28b6a32aa8c"
      },
      "outputs": [
        {
          "output_type": "display_data",
          "data": {
            "text/plain": [
              "\n",
              "Call:\n",
              "glm(formula = IsDefault ~ Age + Sex + Job + Housing + SavingAccountsStatus + \n",
              "    CheckingAccountStatus + LoanAmount + LoanDuration + Purpose, \n",
              "    family = \"binomial\", data = train_df_model)\n",
              "\n",
              "Coefficients:\n",
              "                                 Estimate Std. Error z value Pr(>|z|)    \n",
              "(Intercept)                     4.689e-01  8.164e-01   0.574 0.565711    \n",
              "Age                            -2.263e-02  8.900e-03  -2.543 0.011003 *  \n",
              "Sexmale                        -3.764e-01  1.944e-01  -1.936 0.052905 .  \n",
              "Job1                           -1.503e-02  5.730e-01  -0.026 0.979070    \n",
              "Job2                           -7.639e-02  5.523e-01  -0.138 0.889988    \n",
              "Job3                           -2.646e-01  5.946e-01  -0.445 0.656346    \n",
              "Housingown                     -2.504e-01  3.044e-01  -0.823 0.410769    \n",
              "Housingrent                     4.050e-02  3.578e-01   0.113 0.909865    \n",
              "SavingAccountsStatusmoderate   -4.179e-01  3.024e-01  -1.382 0.166914    \n",
              "SavingAccountsStatusNA         -9.488e-01  2.698e-01  -3.517 0.000437 ***\n",
              "SavingAccountsStatusquite rich -5.794e-01  4.420e-01  -1.311 0.189901    \n",
              "SavingAccountsStatusrich       -7.825e-01  4.906e-01  -1.595 0.110752    \n",
              "CheckingAccountStatusmoderate  -2.213e-01  2.181e-01  -1.014 0.310420    \n",
              "CheckingAccountStatusNA        -1.625e+00  2.348e-01  -6.921 4.49e-12 ***\n",
              "CheckingAccountStatusrich      -8.146e-01  4.051e-01  -2.011 0.044358 *  \n",
              "LoanAmount                      3.877e-05  4.077e-05   0.951 0.341664    \n",
              "LoanDuration                    3.659e-02  9.423e-03   3.883 0.000103 ***\n",
              "Purposecar                      7.902e-02  3.243e-01   0.244 0.807464    \n",
              "Purposedomestic appliances      5.213e-01  8.711e-01   0.598 0.549514    \n",
              "Purposeeducation                2.632e-01  4.539e-01   0.580 0.562003    \n",
              "Purposefurniture/equipment     -1.474e-01  3.573e-01  -0.413 0.679946    \n",
              "Purposeradio/TV                -4.115e-01  3.391e-01  -1.214 0.224859    \n",
              "Purposerepairs                  3.536e-01  5.652e-01   0.626 0.531537    \n",
              "Purposevacation/others         -4.106e-01  7.632e-01  -0.538 0.590555    \n",
              "---\n",
              "Signif. codes:  0 ‘***’ 0.001 ‘**’ 0.01 ‘*’ 0.05 ‘.’ 0.1 ‘ ’ 1\n",
              "\n",
              "(Dispersion parameter for binomial family taken to be 1)\n",
              "\n",
              "    Null deviance: 977.38  on 799  degrees of freedom\n",
              "Residual deviance: 805.75  on 776  degrees of freedom\n",
              "AIC: 853.75\n",
              "\n",
              "Number of Fisher Scoring iterations: 5\n"
            ]
          },
          "metadata": {}
        },
        {
          "output_type": "display_data",
          "data": {
            "text/html": [
              "<style>\n",
              ".dl-inline {width: auto; margin:0; padding: 0}\n",
              ".dl-inline>dt, .dl-inline>dd {float: none; width: auto; display: inline-block}\n",
              ".dl-inline>dt::after {content: \":\\0020\"; padding-right: .5ex}\n",
              ".dl-inline>dt:not(:first-of-type) {padding-left: .5ex}\n",
              "</style><dl class=dl-inline><dt>(Intercept)</dt><dd>1.59823178922032</dd><dt>Age</dt><dd>0.977625036046745</dd><dt>Sexmale</dt><dd>0.686356871725202</dd><dt>Job1</dt><dd>0.985080204383311</dd><dt>Job2</dt><dd>0.926452720586094</dd><dt>Job3</dt><dd>0.767539410048586</dd><dt>Housingown</dt><dd>0.778502817457478</dd><dt>Housingrent</dt><dd>1.04133574338634</dd><dt>SavingAccountsStatusmoderate</dt><dd>0.658400768529592</dd><dt>SavingAccountsStatusNA</dt><dd>0.387199004240695</dd><dt>SavingAccountsStatusquite rich</dt><dd>0.56023511796206</dd><dt>SavingAccountsStatusrich</dt><dd>0.457272871478374</dd><dt>CheckingAccountStatusmoderate</dt><dd>0.801510437502988</dd><dt>CheckingAccountStatusNA</dt><dd>0.196896901348777</dd><dt>CheckingAccountStatusrich</dt><dd>0.442815647379597</dd><dt>LoanAmount</dt><dd>1.00003876890741</dd><dt>LoanDuration</dt><dd>1.03726490258067</dd><dt>Purposecar</dt><dd>1.08222572155339</dd><dt>Purposedomestic appliances</dt><dd>1.68429293964999</dd><dt>Purposeeducation</dt><dd>1.30110770005599</dd><dt>Purposefurniture/equipment</dt><dd>0.862946688806413</dd><dt>Purposeradio/TV</dt><dd>0.662648174767785</dd><dt>Purposerepairs</dt><dd>1.4242003128108</dd><dt>Purposevacation/others</dt><dd>0.663220865968042</dd></dl>\n"
            ],
            "text/markdown": "(Intercept)\n:   1.59823178922032Age\n:   0.977625036046745Sexmale\n:   0.686356871725202Job1\n:   0.985080204383311Job2\n:   0.926452720586094Job3\n:   0.767539410048586Housingown\n:   0.778502817457478Housingrent\n:   1.04133574338634SavingAccountsStatusmoderate\n:   0.658400768529592SavingAccountsStatusNA\n:   0.387199004240695SavingAccountsStatusquite rich\n:   0.56023511796206SavingAccountsStatusrich\n:   0.457272871478374CheckingAccountStatusmoderate\n:   0.801510437502988CheckingAccountStatusNA\n:   0.196896901348777CheckingAccountStatusrich\n:   0.442815647379597LoanAmount\n:   1.00003876890741LoanDuration\n:   1.03726490258067Purposecar\n:   1.08222572155339Purposedomestic appliances\n:   1.68429293964999Purposeeducation\n:   1.30110770005599Purposefurniture/equipment\n:   0.862946688806413Purposeradio/TV\n:   0.662648174767785Purposerepairs\n:   1.4242003128108Purposevacation/others\n:   0.663220865968042\n\n",
            "text/latex": "\\begin{description*}\n\\item[(Intercept)] 1.59823178922032\n\\item[Age] 0.977625036046745\n\\item[Sexmale] 0.686356871725202\n\\item[Job1] 0.985080204383311\n\\item[Job2] 0.926452720586094\n\\item[Job3] 0.767539410048586\n\\item[Housingown] 0.778502817457478\n\\item[Housingrent] 1.04133574338634\n\\item[SavingAccountsStatusmoderate] 0.658400768529592\n\\item[SavingAccountsStatusNA] 0.387199004240695\n\\item[SavingAccountsStatusquite rich] 0.56023511796206\n\\item[SavingAccountsStatusrich] 0.457272871478374\n\\item[CheckingAccountStatusmoderate] 0.801510437502988\n\\item[CheckingAccountStatusNA] 0.196896901348777\n\\item[CheckingAccountStatusrich] 0.442815647379597\n\\item[LoanAmount] 1.00003876890741\n\\item[LoanDuration] 1.03726490258067\n\\item[Purposecar] 1.08222572155339\n\\item[Purposedomestic appliances] 1.68429293964999\n\\item[Purposeeducation] 1.30110770005599\n\\item[Purposefurniture/equipment] 0.862946688806413\n\\item[Purposeradio/TV] 0.662648174767785\n\\item[Purposerepairs] 1.4242003128108\n\\item[Purposevacation/others] 0.663220865968042\n\\end{description*}\n",
            "text/plain": [
              "                   (Intercept)                            Age \n",
              "                     1.5982318                      0.9776250 \n",
              "                       Sexmale                           Job1 \n",
              "                     0.6863569                      0.9850802 \n",
              "                          Job2                           Job3 \n",
              "                     0.9264527                      0.7675394 \n",
              "                    Housingown                    Housingrent \n",
              "                     0.7785028                      1.0413357 \n",
              "  SavingAccountsStatusmoderate         SavingAccountsStatusNA \n",
              "                     0.6584008                      0.3871990 \n",
              "SavingAccountsStatusquite rich       SavingAccountsStatusrich \n",
              "                     0.5602351                      0.4572729 \n",
              " CheckingAccountStatusmoderate        CheckingAccountStatusNA \n",
              "                     0.8015104                      0.1968969 \n",
              "     CheckingAccountStatusrich                     LoanAmount \n",
              "                     0.4428156                      1.0000388 \n",
              "                  LoanDuration                     Purposecar \n",
              "                     1.0372649                      1.0822257 \n",
              "    Purposedomestic appliances               Purposeeducation \n",
              "                     1.6842929                      1.3011077 \n",
              "    Purposefurniture/equipment                Purposeradio/TV \n",
              "                     0.8629467                      0.6626482 \n",
              "                Purposerepairs         Purposevacation/others \n",
              "                     1.4242003                      0.6632209 "
            ]
          },
          "metadata": {}
        },
        {
          "output_type": "stream",
          "name": "stderr",
          "text": [
            "Waiting for profiling to be done...\n",
            "\n"
          ]
        },
        {
          "output_type": "display_data",
          "data": {
            "text/html": [
              "<table class=\"dataframe\">\n",
              "<caption>A matrix: 24 × 2 of type dbl</caption>\n",
              "<thead>\n",
              "\t<tr><th></th><th scope=col>2.5 %</th><th scope=col>97.5 %</th></tr>\n",
              "</thead>\n",
              "<tbody>\n",
              "\t<tr><th scope=row>(Intercept)</th><td>0.3170406</td><td>7.8919145</td></tr>\n",
              "\t<tr><th scope=row>Age</th><td>0.9604246</td><td>0.9945827</td></tr>\n",
              "\t<tr><th scope=row>Sexmale</th><td>0.4688951</td><td>1.0057277</td></tr>\n",
              "\t<tr><th scope=row>Job1</th><td>0.3230943</td><td>3.1329234</td></tr>\n",
              "\t<tr><th scope=row>Job2</th><td>0.3167797</td><td>2.8395132</td></tr>\n",
              "\t<tr><th scope=row>Job3</th><td>0.2415195</td><td>2.5438207</td></tr>\n",
              "\t<tr><th scope=row>Housingown</th><td>0.4303298</td><td>1.4229150</td></tr>\n",
              "\t<tr><th scope=row>Housingrent</th><td>0.5172102</td><td>2.1080227</td></tr>\n",
              "\t<tr><th scope=row>SavingAccountsStatusmoderate</th><td>0.3584993</td><td>1.1773833</td></tr>\n",
              "\t<tr><th scope=row>SavingAccountsStatusNA</th><td>0.2244202</td><td>0.6483529</td></tr>\n",
              "\t<tr><th scope=row>SavingAccountsStatusquite rich</th><td>0.2212990</td><td>1.2744224</td></tr>\n",
              "\t<tr><th scope=row>SavingAccountsStatusrich</th><td>0.1599519</td><td>1.1273053</td></tr>\n",
              "\t<tr><th scope=row>CheckingAccountStatusmoderate</th><td>0.5220151</td><td>1.2287015</td></tr>\n",
              "\t<tr><th scope=row>CheckingAccountStatusNA</th><td>0.1232488</td><td>0.3098848</td></tr>\n",
              "\t<tr><th scope=row>CheckingAccountStatusrich</th><td>0.1918375</td><td>0.9520528</td></tr>\n",
              "\t<tr><th scope=row>LoanAmount</th><td>0.9999589</td><td>1.0001191</td></tr>\n",
              "\t<tr><th scope=row>LoanDuration</th><td>1.0184417</td><td>1.0568339</td></tr>\n",
              "\t<tr><th scope=row>Purposecar</th><td>0.5766395</td><td>2.0622640</td></tr>\n",
              "\t<tr><th scope=row>Purposedomestic appliances</th><td>0.2779630</td><td>9.3143659</td></tr>\n",
              "\t<tr><th scope=row>Purposeeducation</th><td>0.5327778</td><td>3.1733348</td></tr>\n",
              "\t<tr><th scope=row>Purposefurniture/equipment</th><td>0.4292531</td><td>1.7473709</td></tr>\n",
              "\t<tr><th scope=row>Purposeradio/TV</th><td>0.3420133</td><td>1.2964769</td></tr>\n",
              "\t<tr><th scope=row>Purposerepairs</th><td>0.4578447</td><td>4.2722823</td></tr>\n",
              "\t<tr><th scope=row>Purposevacation/others</th><td>0.1372577</td><td>2.9068595</td></tr>\n",
              "</tbody>\n",
              "</table>\n"
            ],
            "text/markdown": "\nA matrix: 24 × 2 of type dbl\n\n| <!--/--> | 2.5 % | 97.5 % |\n|---|---|---|\n| (Intercept) | 0.3170406 | 7.8919145 |\n| Age | 0.9604246 | 0.9945827 |\n| Sexmale | 0.4688951 | 1.0057277 |\n| Job1 | 0.3230943 | 3.1329234 |\n| Job2 | 0.3167797 | 2.8395132 |\n| Job3 | 0.2415195 | 2.5438207 |\n| Housingown | 0.4303298 | 1.4229150 |\n| Housingrent | 0.5172102 | 2.1080227 |\n| SavingAccountsStatusmoderate | 0.3584993 | 1.1773833 |\n| SavingAccountsStatusNA | 0.2244202 | 0.6483529 |\n| SavingAccountsStatusquite rich | 0.2212990 | 1.2744224 |\n| SavingAccountsStatusrich | 0.1599519 | 1.1273053 |\n| CheckingAccountStatusmoderate | 0.5220151 | 1.2287015 |\n| CheckingAccountStatusNA | 0.1232488 | 0.3098848 |\n| CheckingAccountStatusrich | 0.1918375 | 0.9520528 |\n| LoanAmount | 0.9999589 | 1.0001191 |\n| LoanDuration | 1.0184417 | 1.0568339 |\n| Purposecar | 0.5766395 | 2.0622640 |\n| Purposedomestic appliances | 0.2779630 | 9.3143659 |\n| Purposeeducation | 0.5327778 | 3.1733348 |\n| Purposefurniture/equipment | 0.4292531 | 1.7473709 |\n| Purposeradio/TV | 0.3420133 | 1.2964769 |\n| Purposerepairs | 0.4578447 | 4.2722823 |\n| Purposevacation/others | 0.1372577 | 2.9068595 |\n\n",
            "text/latex": "A matrix: 24 × 2 of type dbl\n\\begin{tabular}{r|ll}\n  & 2.5 \\% & 97.5 \\%\\\\\n\\hline\n\t(Intercept) & 0.3170406 & 7.8919145\\\\\n\tAge & 0.9604246 & 0.9945827\\\\\n\tSexmale & 0.4688951 & 1.0057277\\\\\n\tJob1 & 0.3230943 & 3.1329234\\\\\n\tJob2 & 0.3167797 & 2.8395132\\\\\n\tJob3 & 0.2415195 & 2.5438207\\\\\n\tHousingown & 0.4303298 & 1.4229150\\\\\n\tHousingrent & 0.5172102 & 2.1080227\\\\\n\tSavingAccountsStatusmoderate & 0.3584993 & 1.1773833\\\\\n\tSavingAccountsStatusNA & 0.2244202 & 0.6483529\\\\\n\tSavingAccountsStatusquite rich & 0.2212990 & 1.2744224\\\\\n\tSavingAccountsStatusrich & 0.1599519 & 1.1273053\\\\\n\tCheckingAccountStatusmoderate & 0.5220151 & 1.2287015\\\\\n\tCheckingAccountStatusNA & 0.1232488 & 0.3098848\\\\\n\tCheckingAccountStatusrich & 0.1918375 & 0.9520528\\\\\n\tLoanAmount & 0.9999589 & 1.0001191\\\\\n\tLoanDuration & 1.0184417 & 1.0568339\\\\\n\tPurposecar & 0.5766395 & 2.0622640\\\\\n\tPurposedomestic appliances & 0.2779630 & 9.3143659\\\\\n\tPurposeeducation & 0.5327778 & 3.1733348\\\\\n\tPurposefurniture/equipment & 0.4292531 & 1.7473709\\\\\n\tPurposeradio/TV & 0.3420133 & 1.2964769\\\\\n\tPurposerepairs & 0.4578447 & 4.2722823\\\\\n\tPurposevacation/others & 0.1372577 & 2.9068595\\\\\n\\end{tabular}\n",
            "text/plain": [
              "                               2.5 %     97.5 %   \n",
              "(Intercept)                    0.3170406 7.8919145\n",
              "Age                            0.9604246 0.9945827\n",
              "Sexmale                        0.4688951 1.0057277\n",
              "Job1                           0.3230943 3.1329234\n",
              "Job2                           0.3167797 2.8395132\n",
              "Job3                           0.2415195 2.5438207\n",
              "Housingown                     0.4303298 1.4229150\n",
              "Housingrent                    0.5172102 2.1080227\n",
              "SavingAccountsStatusmoderate   0.3584993 1.1773833\n",
              "SavingAccountsStatusNA         0.2244202 0.6483529\n",
              "SavingAccountsStatusquite rich 0.2212990 1.2744224\n",
              "SavingAccountsStatusrich       0.1599519 1.1273053\n",
              "CheckingAccountStatusmoderate  0.5220151 1.2287015\n",
              "CheckingAccountStatusNA        0.1232488 0.3098848\n",
              "CheckingAccountStatusrich      0.1918375 0.9520528\n",
              "LoanAmount                     0.9999589 1.0001191\n",
              "LoanDuration                   1.0184417 1.0568339\n",
              "Purposecar                     0.5766395 2.0622640\n",
              "Purposedomestic appliances     0.2779630 9.3143659\n",
              "Purposeeducation               0.5327778 3.1733348\n",
              "Purposefurniture/equipment     0.4292531 1.7473709\n",
              "Purposeradio/TV                0.3420133 1.2964769\n",
              "Purposerepairs                 0.4578447 4.2722823\n",
              "Purposevacation/others         0.1372577 2.9068595"
            ]
          },
          "metadata": {}
        }
      ],
      "source": [
        "# Formula for the model. Include all relevant features based on available columns.\n",
        "train_df_model <- train_df %>%\n",
        "  mutate_if(is.character, as.factor) %>%\n",
        "  mutate(\n",
        "    Sex = as.factor(Sex),\n",
        "    Job = as.factor(Job), # Job is now integer, converting to factor\n",
        "    Housing = as.factor(Housing),\n",
        "    SavingAccountsStatus = as.factor(SavingAccountsStatus),\n",
        "    CheckingAccountStatus = as.factor(CheckingAccountStatus), # Corrected column name\n",
        "    Purpose = as.factor(Purpose),\n",
        "    AgeGroup = as.factor(AgeGroup),\n",
        "    LoanDurationCategory = as.factor(LoanDurationCategory)\n",
        "  )\n",
        "\n",
        "logistic_model <- glm(IsDefault ~\n",
        "                         Age + Sex + Job + Housing + SavingAccountsStatus + CheckingAccountStatus +\n",
        "                         LoanAmount + LoanDuration + Purpose,\n",
        "                       data = train_df_model,\n",
        "                       family = \"binomial\")\n",
        "\n",
        "# Summarize the model results\n",
        "summary(logistic_model)\n",
        "\n",
        "# Interpret coefficients as Odds Ratios:\n",
        "exp(coef(logistic_model))\n",
        "exp(confint(logistic_model)) # Confidence intervals for odds ratios"
      ]
    },
    {
      "cell_type": "code",
      "execution_count": null,
      "metadata": {
        "id": "OdjkrzVGjpyu",
        "colab": {
          "base_uri": "https://localhost:8080/"
        },
        "outputId": "0abc9ba8-d9a6-4cad-d9d8-7859ac03ec47"
      },
      "outputs": [
        {
          "output_type": "stream",
          "name": "stdout",
          "text": [
            "[1] \"Structure of train_df_model:\"\n",
            "tibble [800 × 14] (S3: tbl_df/tbl/data.frame)\n",
            " $ Age                                : int [1:800] 20 20 20 20 20 20 20 20 20 20 ...\n",
            " $ Sex                                : Factor w/ 2 levels \"female\",\"male\": 2 2 1 1 2 1 1 1 1 2 ...\n",
            " $ Job                                : Factor w/ 4 levels \"0\",\"1\",\"2\",\"3\": 3 4 3 3 3 3 3 3 2 3 ...\n",
            " $ Housing                            : Factor w/ 3 levels \"free\",\"own\",\"rent\": 2 3 3 3 3 3 3 3 3 3 ...\n",
            " $ SavingAccountsStatus               : Factor w/ 5 levels \"little\",\"moderate\",..: 1 1 3 1 1 4 5 1 1 3 ...\n",
            " $ CheckingAccountStatus              : Factor w/ 4 levels \"little\",\"moderate\",..: 3 1 3 1 2 3 3 1 2 4 ...\n",
            " $ LoanAmount                         : int [1:800] 1313 1107 4675 1282 585 2221 3186 2039 2718 3617 ...\n",
            " $ LoanDuration                       : int [1:800] 9 12 12 12 12 15 15 18 24 24 ...\n",
            " $ Purpose                            : Factor w/ 8 levels \"business\",\"car\",..: 5 6 2 5 6 5 2 5 2 5 ...\n",
            " $ RiskStatus                         : Factor w/ 2 levels \"bad\",\"good\": 2 2 2 1 2 2 2 1 1 2 ...\n",
            " $ AgeGroup                           : Factor w/ 5 levels \"18-24\",\"25-34\",..: 1 1 1 1 1 1 1 1 1 1 ...\n",
            " $ LoanDurationCategory               : Factor w/ 3 levels \"Long (>24 months)\",..: 3 3 3 3 3 2 2 2 2 2 ...\n",
            " $ IsDefault                          : Factor w/ 2 levels \"Good\",\"Default\": 1 1 1 2 1 1 1 2 2 1 ...\n",
            " $ LoanDuration_LoanAmount_Interaction: int [1:800] 11817 13284 56100 15384 7020 33315 47790 36702 65232 86808 ...\n",
            "[1] \"\\nUnique values and levels for categorical features in train_df_model:\"\n",
            "[1] \"Sex:\"\n",
            "\n",
            "female   male   <NA> \n",
            "   248    552      0 \n",
            "[1] \"Number of levels for Sex: 2\"\n",
            "[1] \"\\nJob:\"\n",
            "\n",
            "   0    1    2    3 <NA> \n",
            "  18  156  514  112    0 \n",
            "[1] \"Number of levels for Job: 4\"\n",
            "[1] \"\\nHousing:\"\n",
            "\n",
            "free  own rent <NA> \n",
            "  89  564  147    0 \n",
            "[1] \"Number of levels for Housing: 3\"\n",
            "[1] \"\\nSavingAccountsStatus:\"\n",
            "\n",
            "    little   moderate         NA quite rich       rich       <NA> \n",
            "       484         81        151         48         36          0 \n",
            "[1] \"Number of levels for SavingAccountsStatus: 5\"\n",
            "[1] \"\\nCheckingAccountStatus:\"\n",
            "\n",
            "  little moderate       NA     rich     <NA> \n",
            "     221      210      326       43        0 \n",
            "[1] \"Number of levels for CheckingAccountStatus: 4\"\n",
            "[1] \"\\nPurpose:\"\n",
            "\n",
            "           business                 car domestic appliances           education \n",
            "                 74                 276                   8                  51 \n",
            "furniture/equipment            radio/TV             repairs     vacation/others \n",
            "                142                 217                  22                  10 \n",
            "               <NA> \n",
            "                  0 \n",
            "[1] \"Number of levels for Purpose: 8\"\n",
            "[1] \"\\nAgeGroup:\"\n",
            "\n",
            "18-24 25-34 35-44 45-54   55+  <NA> \n",
            "  114   321   199   101    65     0 \n",
            "[1] \"Number of levels for AgeGroup: 5\"\n",
            "[1] \"\\nLoanDurationCategory:\"\n",
            "\n",
            "    Long (>24 months) Medium (13-24 months)   Short (<=12 months) \n",
            "                  181                   336                   283 \n",
            "                 <NA> \n",
            "                    0 \n",
            "[1] \"Number of levels for LoanDurationCategory: 3\"\n",
            "[1] \"\\nIsDefault (target variable):\"\n",
            "\n",
            "   Good Default    <NA> \n",
            "    560     240       0 \n",
            "[1] \"Number of levels for IsDefault: 2\"\n"
          ]
        }
      ],
      "source": [
        "# --- DIAGNOSTIC STEP for train_df_model ---\n",
        "\n",
        "# Check the structure of the prepared training data\n",
        "print(\"Structure of train_df_model:\")\n",
        "str(train_df_model)\n",
        "\n",
        "# Check unique values and levels for key categorical variables\n",
        "print(\"\\nUnique values and levels for categorical features in train_df_model:\")\n",
        "\n",
        "print(\"Sex:\")\n",
        "print(table(train_df_model$Sex, useNA = \"always\"))\n",
        "print(paste(\"Number of levels for Sex:\", nlevels(train_df_model$Sex)))\n",
        "\n",
        "print(\"\\nJob:\")\n",
        "print(table(train_df_model$Job, useNA = \"always\"))\n",
        "print(paste(\"Number of levels for Job:\", nlevels(train_df_model$Job)))\n",
        "\n",
        "print(\"\\nHousing:\")\n",
        "print(table(train_df_model$Housing, useNA = \"always\"))\n",
        "print(paste(\"Number of levels for Housing:\", nlevels(train_df_model$Housing)))\n",
        "\n",
        "print(\"\\nSavingAccountsStatus:\")\n",
        "print(table(train_df_model$SavingAccountsStatus, useNA = \"always\"))\n",
        "print(paste(\"Number of levels for SavingAccountsStatus:\", nlevels(train_df_model$SavingAccountsStatus)))\n",
        "\n",
        "print(\"\\nCheckingAccountStatus:\")\n",
        "print(table(train_df_model$CheckingAccountStatus, useNA = \"always\"))\n",
        "print(paste(\"Number of levels for CheckingAccountStatus:\", nlevels(train_df_model$CheckingAccountStatus)))\n",
        "\n",
        "print(\"\\nPurpose:\")\n",
        "print(table(train_df_model$Purpose, useNA = \"always\"))\n",
        "print(paste(\"Number of levels for Purpose:\", nlevels(train_df_model$Purpose)))\n",
        "\n",
        "print(\"\\nAgeGroup:\")\n",
        "print(table(train_df_model$AgeGroup, useNA = \"always\"))\n",
        "print(paste(\"Number of levels for AgeGroup:\", nlevels(train_df_model$AgeGroup)))\n",
        "\n",
        "print(\"\\nLoanDurationCategory:\")\n",
        "print(table(train_df_model$LoanDurationCategory, useNA = \"always\"))\n",
        "print(paste(\"Number of levels for LoanDurationCategory:\", nlevels(train_df_model$LoanDurationCategory)))\n",
        "\n",
        "print(\"\\nIsDefault (target variable):\")\n",
        "print(table(train_df_model$IsDefault, useNA = \"always\"))\n",
        "print(paste(\"Number of levels for IsDefault:\", nlevels(train_df_model$IsDefault)))"
      ]
    },
    {
      "cell_type": "code",
      "execution_count": null,
      "metadata": {
        "id": "9mgAwfBPENHd",
        "colab": {
          "base_uri": "https://localhost:8080/",
          "height": 1000
        },
        "outputId": "0c79272b-0756-4407-d222-bcff5c05392f"
      },
      "outputs": [
        {
          "output_type": "stream",
          "name": "stdout",
          "text": [
            "Confusion Matrix and Statistics\n",
            "\n",
            "          Reference\n",
            "Prediction Good Default\n",
            "   Good     123      37\n",
            "   Default   17      23\n",
            "                                          \n",
            "               Accuracy : 0.73            \n",
            "                 95% CI : (0.6628, 0.7902)\n",
            "    No Information Rate : 0.7             \n",
            "    P-Value [Acc > NIR] : 0.198850        \n",
            "                                          \n",
            "                  Kappa : 0.2895          \n",
            "                                          \n",
            " Mcnemar's Test P-Value : 0.009722        \n",
            "                                          \n",
            "            Sensitivity : 0.3833          \n",
            "            Specificity : 0.8786          \n",
            "         Pos Pred Value : 0.5750          \n",
            "         Neg Pred Value : 0.7687          \n",
            "             Prevalence : 0.3000          \n",
            "         Detection Rate : 0.1150          \n",
            "   Detection Prevalence : 0.2000          \n",
            "      Balanced Accuracy : 0.6310          \n",
            "                                          \n",
            "       'Positive' Class : Default         \n",
            "                                          \n",
            "Accuracy: 0.73 \n",
            "Precision: 0.575 \n",
            "Recall (Sensitivity): 0.3833333 \n",
            "F1-Score: 0.46 \n"
          ]
        },
        {
          "output_type": "stream",
          "name": "stderr",
          "text": [
            "Setting levels: control = Good, case = Default\n",
            "\n",
            "Setting direction: controls < cases\n",
            "\n"
          ]
        },
        {
          "output_type": "stream",
          "name": "stdout",
          "text": [
            "AUC: 0.7513095 \n"
          ]
        },
        {
          "output_type": "display_data",
          "data": {
            "text/plain": [
              "Plot with title “ROC Curve - Logistic Regression”"
            ],
            "image/png": "[encoded data removed]"
          },
          "metadata": {
            "image/png": {
              "width": 420,
              "height": 420
            }
          }
        }
      ],
      "source": [
        "# Prepare test_df for prediction to match the factor levels of train_df_model\n",
        "test_df_model_eval <- test_df %>%\n",
        "  mutate_if(is.character, as.factor) %>%\n",
        "  mutate(\n",
        "    Sex = as.factor(Sex),\n",
        "    Job = as.factor(Job), # Ensure Job is a factor here too\n",
        "    Housing = as.factor(Housing),\n",
        "    SavingAccountsStatus = as.factor(SavingAccountsStatus),\n",
        "    CheckingAccountStatus = as.factor(CheckingAccountStatus),\n",
        "    Purpose = as.factor(Purpose),\n",
        "    AgeGroup = as.factor(AgeGroup),\n",
        "    LoanDurationCategory = as.factor(LoanDurationCategory)\n",
        "  )\n",
        "\n",
        "# Ensure the target variable `IsDefault` in test_df_model_eval is a factor with exactly two levels: 'Good', 'Default'\n",
        "test_df_model_eval$IsDefault <- factor(test_df_model_eval$IsDefault, levels = c(\"Good\", \"Default\"))\n",
        "\n",
        "# Make predictions on the test set using the prepared test_df_model_eval\n",
        "predictions_prob <- predict(logistic_model, newdata = test_df_model_eval, type = \"response\")\n",
        "predictions_class <- factor(ifelse(predictions_prob > 0.5, \"Default\", \"Good\"), levels = c(\"Good\", \"Default\"))\n",
        "\n",
        "# Create confusion matrix\n",
        "confusion_matrix <- confusionMatrix(predictions_class, test_df_model_eval$IsDefault, positive = \"Default\")\n",
        "print(confusion_matrix)\n",
        "\n",
        "# Extract metrics\n",
        "accuracy <- confusion_matrix$overall['Accuracy']\n",
        "precision <- confusion_matrix$byClass['Pos Pred Value']\n",
        "recall <- confusion_matrix$byClass['Sensitivity']\n",
        "f1_score <- confusion_matrix$byClass['F1']\n",
        "\n",
        "cat(\"Accuracy:\", accuracy, \"\\n\")\n",
        "cat(\"Precision:\", precision, \"\\n\")\n",
        "cat(\"Recall (Sensitivity):\", recall, \"\\n\")\n",
        "cat(\"F1-Score:\", f1_score, \"\\n\")\n",
        "\n",
        "# ROC Curve and AUC\n",
        "roc_obj <- roc(response = test_df_model_eval$IsDefault, predictor = predictions_prob)\n",
        "plot(roc_obj, main = \"ROC Curve - Logistic Regression\")\n",
        "auc_value <- auc(roc_obj)\n",
        "cat(\"AUC:\", auc_value, \"\\n\")"
      ]
    },
    {
      "cell_type": "code",
      "execution_count": null,
      "metadata": {
        "id": "qHg4eGGAEQ8r"
      },
      "outputs": [],
      "source": [
        "# Predict probabilities for the entire dataset (or just test_df if preferred)\n",
        "# Ensure german_credit_df is prepared similarly before prediction\n",
        "german_credit_df_prepared_for_predict <- german_credit_df %>%\n",
        "  mutate_if(is.character, as.factor) %>%\n",
        "  mutate(\n",
        "    Sex = as.factor(Sex),\n",
        "    Job = as.factor(Job),\n",
        "    Housing = as.factor(Housing),\n",
        "    SavingAccountsStatus = as.factor(SavingAccountsStatus),\n",
        "    CheckingAccountStatus = as.factor(CheckingAccountStatus),\n",
        "    Purpose = as.factor(Purpose),\n",
        "    AgeGroup = as.factor(AgeGroup),\n",
        "    LoanDurationCategory = as.factor(LoanDurationCategory)\n",
        "  )\n",
        "# Ensure IsDefault in german_credit_df_prepared_for_predict is a factor\n",
        "german_credit_df_prepared_for_predict$IsDefault <- factor(german_credit_df_prepared_for_predict$IsDefault, levels = c(\"Good\", \"Default\"))\n",
        "\n",
        "\n",
        "german_credit_df_final <- german_credit_df # Start with original for adding new columns\n",
        "german_credit_df_final$PredictedProb <- predict(logistic_model, newdata = german_credit_df_prepared_for_predict, type = \"response\")\n",
        "\n",
        "# Assign Risk Tier based on probabilities\n",
        "german_credit_df_final$Risk_Tier <- cut(german_credit_df_final$PredictedProb,\n",
        "                                 breaks = c(-Inf, 0.2, 0.5, Inf),\n",
        "                                 labels = c(\"Low Risk\", \"Medium Risk\", \"High Risk\"),\n",
        "                                 right = TRUE, include.lowest = TRUE)\n",
        "\n",
        "# You might also want to add key statistical test results as new columns\n",
        "# (e.g., p-value for LoanAmount T-test, Chi-squared p-value for CheckingAccountStatus, Sex)\n",
        "# This makes it easier to display in Looker Studio.\n",
        "# IMPORTANT: Ensure t_test_loan_amount and chi_sq_checking_account, chi_sq_sex are defined\n",
        "# before running these lines. If the t-test couldn't run, these will be undefined.\n",
        "# You might need to set them to NA or a placeholder if the test itself fails.\n",
        "german_credit_df_final$LoanAmount_Ttest_Pvalue <- if(exists(\"t_test_loan_amount\")) t_test_loan_amount$p.value else NA\n",
        "german_credit_df_final$CheckingAccountStatus_Chisq_Pvalue <- if(exists(\"chi_sq_checking_account\")) chi_sq_checking_account$p.value else NA\n",
        "german_credit_df_final$Sex_Chisq_Pvalue <- if(exists(\"chi_sq_sex\")) chi_sq_sex$p.value else NA\n",
        "\n",
        "\n",
        "# To write back to BigQuery:\n",
        "# First, ensure you are re-authenticated and have write access.\n",
        "# Convert factors back to character or numeric if bigrquery has issues with factors directly.\n",
        "german_credit_df_to_bq <- german_credit_df_final %>% # Use german_credit_df_final here\n",
        "  mutate_if(is.factor, as.character) %>%\n",
        "  mutate(IsDefault = ifelse(IsDefault == \"Default\", 1, 0)) # Convert back to 0/1 for BQ\n",
        "\n",
        "dbWriteTable(con,\n",
        "             name = \"german_credit_r_analyzed\", # New table name\n",
        "             value = german_credit_df_to_bq,\n",
        "             overwrite = TRUE) # BE CAREFUL with overwrite, make sure you're writing to a NEW table"
      ]
    },
    {
      "cell_type": "code",
      "source": [
        "install.packages(\"ROSE\") # If not already installed\n",
        "library(ROSE)"
      ],
      "metadata": {
        "colab": {
          "base_uri": "https://localhost:8080/"
        },
        "id": "pP8kdOHV_dK-",
        "outputId": "e6bfda9d-42da-4759-fbcd-3f44ac844953"
      },
      "execution_count": null,
      "outputs": [
        {
          "output_type": "stream",
          "name": "stderr",
          "text": [
            "Installing package into ‘/usr/local/lib/R/site-library’\n",
            "(as ‘lib’ is unspecified)\n",
            "\n",
            "Loaded ROSE 0.0-4\n",
            "\n",
            "\n"
          ]
        }
      ]
    },
    {
      "cell_type": "code",
      "source": [
        "# Set up training control for cross-validation\n",
        "control <- trainControl(method = \"cv\", # Cross-validation\n",
        "                        number = 10,  # 10 folds\n",
        "                        classProbs = TRUE, # Important for ROC and probabilities\n",
        "                        summaryFunction = twoClassSummary) # For binary classification metrics like AUC"
      ],
      "metadata": {
        "id": "_8Qx82JU_eQi"
      },
      "execution_count": null,
      "outputs": []
    },
    {
      "cell_type": "code",
      "source": [
        "# Make sure all columns used are appropriate for Random Forest (numeric or factor)\n",
        "# Convert all character columns to factors if not already done for both train_df and test_df\n",
        "train_df_model_rf <- train_df %>%\n",
        "    mutate_if(is.character, as.factor) %>%\n",
        "    mutate(\n",
        "        Sex = as.factor(Sex),\n",
        "        Job = as.factor(Job),\n",
        "        Housing = as.factor(Housing),\n",
        "        SavingAccountsStatus = as.factor(SavingAccountsStatus),\n",
        "        CheckingAccountStatus = as.factor(CheckingAccountStatus), # Corrected column name\n",
        "        Purpose = as.factor(Purpose),\n",
        "        AgeGroup = as.factor(AgeGroup),\n",
        "        LoanDurationCategory = as.factor(LoanDurationCategory)\n",
        "    )\n",
        "\n",
        "# Ensure the target variable `IsDefault` is a factor with exactly two levels: 'Good', 'Default'\n",
        "train_df_model_rf$IsDefault <- factor(train_df_model_rf$IsDefault, levels = c(\"Good\", \"Default\"))\n",
        "\n",
        "\n",
        "set.seed(123)\n",
        "rf_model <- train(IsDefault ~\n",
        "                       Age + Sex + Job + Housing + SavingAccountsStatus + CheckingAccountStatus +\n",
        "                       LoanAmount + LoanDuration + Purpose,\n",
        "                 data = train_df_model_rf,\n",
        "                 method = \"rf\", # Random Forest\n",
        "                 metric = \"ROC\", # Optimize for ROC/AUC\n",
        "                 trControl = control,\n",
        "                 importance = TRUE) # To get feature importance\n",
        "\n",
        "print(rf_model)\n",
        "plot(rf_model) # Plot tuning results\n",
        "\n",
        "# Get and plot feature importance using caret's varImp and ggplot2\n",
        "importance_rf_plot <- varImp(rf_model, scale = FALSE)\n",
        "plot(importance_rf_plot, main = \"Random Forest Feature Importance\") # This uses caret's default plot for varImp"
      ],
      "metadata": {
        "colab": {
          "base_uri": "https://localhost:8080/",
          "height": 383
        },
        "id": "LOqsO2lK_hZN",
        "outputId": "e4610044-1af4-4842-b5e3-5ca8192aac6b"
      },
      "execution_count": null,
      "outputs": [
        {
          "output_type": "error",
          "ename": "ERROR",
          "evalue": "Error: Required packages are missing: randomForest\n",
          "traceback": [
            "Error: Required packages are missing: randomForest\nTraceback:\n",
            "1. train.formula(IsDefault ~ Age + Sex + Job + Housing + SavingAccountsStatus + \n .     CheckingAccountStatus + LoanAmount + LoanDuration + Purpose, \n .     data = train_df_model_rf, method = \"rf\", metric = \"ROC\", \n .     trControl = control, importance = TRUE)",
            "2. train(x, y, weights = w, ...)",
            "3. train.default(x, y, weights = w, ...)",
            "4. checkInstall(models$library)",
            "5. stop(\"Required packages are missing: \", pkList, call. = FALSE)",
            "6. .handleSimpleError(function (cnd) \n . {\n .     watcher$capture_plot_and_output()\n .     cnd <- sanitize_call(cnd)\n .     watcher$push(cnd)\n .     switch(on_error, continue = invokeRestart(\"eval_continue\"), \n .         stop = invokeRestart(\"eval_stop\"), error = NULL)\n . }, \"Required packages are missing: randomForest\", base::quote(NULL))"
          ]
        }
      ]
    },
    {
      "cell_type": "code",
      "source": [
        "install.packages(c(\"DBI\", \"bigrquery\", \"dplyr\", \"ggplot2\", \"caret\", \"e1071\", \"pROC\", \"stats\", \"corrplot\", \"ROSE\", \"randomForest\", \"gbm\"))\n",
        "set.seed(123)\n",
        "gbm_model <- train(IsDefault ~\n",
        "                       Age + Sex + Job + Housing + SavingAccountsStatus + CheckingAccountStatus +\n",
        "                       LoanAmount + LoanDuration + Purpose,\n",
        "                      data = train_df_model_rf, # Use the same processed training data\n",
        "                      method = \"gbm\",\n",
        "                      metric = \"ROC\",\n",
        "                      trControl = control,\n",
        "                      verbose = FALSE) # Suppress verbose output during training\n",
        "\n",
        "print(gbm_model)\n",
        "plot(gbm_model)\n",
        "summary(gbm_model$finalModel) # Feature importance for GBM"
      ],
      "metadata": {
        "id": "q98nVxl4_lX0"
      },
      "execution_count": null,
      "outputs": []
    },
    {
      "cell_type": "code",
      "source": [
        "# Ensure test_df has the same factor levels for IsDefault\n",
        "test_df_model_eval <- test_df %>%\n",
        "    mutate_if(is.character, as.factor) %>%\n",
        "    mutate(\n",
        "        Sex = as.factor(Sex),\n",
        "        Job = as.factor(Job),\n",
        "        Housing = as.factor(Housing),\n",
        "        SavingAccountsStatus = as.factor(SavingAccountsStatus),\n",
        "        CheckingAccountStatus = as.factor(CheckingAccountStatus), # Corrected column name\n",
        "        Purpose = as.factor(Purpose),\n",
        "        AgeGroup = as.factor(AgeGroup),\n",
        "        LoanDurationCategory = as.factor(LoanDurationCategory)\n",
        "    )\n",
        "\n",
        "test_df_model_eval$IsDefault <- factor(test_df_model_eval$IsDefault, levels = c(\"Good\", \"Default\"))\n",
        "\n",
        "\n",
        "# Logistic Regression (from Stage 2)\n",
        "predictions_lr_prob <- predict(logistic_model, newdata = test_df_model_eval, type = \"response\")\n",
        "predictions_lr_class <- factor(ifelse(predictions_lr_prob > 0.5, \"Default\", \"Good\"), levels = c(\"Good\", \"Default\"))\n",
        "\n",
        "# Random Forest\n",
        "predictions_rf_prob <- predict(rf_model, newdata = test_df_model_eval, type = \"prob\")[,\"Default\"]\n",
        "predictions_rf_class <- predict(rf_model, newdata = test_df_model_eval)\n",
        "\n",
        "# GBM\n",
        "predictions_gbm_prob <- predict(gbm_model, newdata = test_df_model_eval, type = \"prob\")[,\"Default\"]\n",
        "predictions_gbm_class <- predict(gbm_model, newdata = test_df_model_eval)\n"
      ],
      "metadata": {
        "id": "WJ0blm3o_oYs"
      },
      "execution_count": null,
      "outputs": []
    },
    {
      "cell_type": "code",
      "source": [
        "# Function to get metrics\n",
        "get_metrics <- function(actual, predicted_class, predicted_prob, model_name) {\n",
        "  cm <- confusionMatrix(predicted_class, actual, positive = \"Default\")\n",
        "  roc_obj <- roc(response = actual, predictor = predicted_prob)\n",
        "\n",
        "  data.frame(\n",
        "    Model = model_name,\n",
        "    Accuracy = cm$overall['Accuracy'],\n",
        "    Precision = cm$byClass['Pos Pred Value'],\n",
        "    Recall = cm$byClass['Sensitivity'],\n",
        "    F1_Score = cm$byClass['F1'],\n",
        "    AUC = auc(roc_obj)\n",
        "  )\n",
        "}\n",
        "\n",
        "metrics_lr <- get_metrics(test_df_model_eval$IsDefault, predictions_lr_class, predictions_lr_prob, \"Logistic Regression\")\n",
        "metrics_rf <- get_metrics(test_df_model_eval$IsDefault, predictions_rf_class, predictions_rf_prob, \"Random Forest\")\n",
        "metrics_gbm <- get_metrics(test_df_model_eval$IsDefault, predictions_gbm_class, predictions_gbm_prob, \"GBM\")\n",
        "\n",
        "all_model_metrics <- rbind(metrics_lr, metrics_rf, metrics_gbm)\n",
        "print(all_model_metrics)"
      ],
      "metadata": {
        "id": "QiY8iOSK_r3i"
      },
      "execution_count": null,
      "outputs": []
    },
    {
      "cell_type": "code",
      "source": [
        "# Plotting multiple ROC curves on one plot\n",
        "roc_lr <- roc(response = test_df_model_eval$IsDefault, predictor = predictions_lr_prob)\n",
        "roc_rf <- roc(response = test_df_model_eval$IsDefault, predictor = predictions_rf_prob)\n",
        "roc_gbm <- roc(response = test_df_model_eval$IsDefault, predictor = predictions_gbm_prob)\n",
        "\n",
        "plot(roc_lr, col = \"red\", main = \"ROC Curves for Credit Default Models\")\n",
        "lines(roc_rf, col = \"blue\")\n",
        "lines(roc_gbm, col = \"green\")\n",
        "legend(\"bottomright\",\n",
        "       legend = c(paste0(\"Logistic Regression (AUC = \", round(auc(roc_lr), 3), \")\"),\n",
        "                  paste0(\"Random Forest (AUC = \", round(auc(roc_rf), 3), \")\"),\n",
        "                  paste0(\"GBM (AUC = \", round(auc(roc_gbm), 3), \")\")),\n",
        "       col = c(\"red\", \"blue\", \"green\"),\n",
        "       lty = 1,\n",
        "       lwd = 2)"
      ],
      "metadata": {
        "id": "Re3vRXFM_wLK"
      },
      "execution_count": null,
      "outputs": []
    },
    {
      "cell_type": "code",
      "source": [
        "# Prepare the full german_credit_df to match the factor levels used during model training\n",
        "german_credit_df_prepared_for_predict <- german_credit_df %>%\n",
        "  mutate_if(is.character, as.factor) %>%\n",
        "  mutate(\n",
        "    Sex = as.factor(Sex),\n",
        "    Job = as.factor(Job),\n",
        "    Housing = as.factor(Housing),\n",
        "    SavingAccountsStatus = as.factor(SavingAccountsStatus),\n",
        "    CheckingAccountStatus = as.factor(CheckingAccountStatus), # Corrected column name\n",
        "    Purpose = as.factor(Purpose),\n",
        "    AgeGroup = as.factor(AgeGroup),\n",
        "    LoanDurationCategory = as.factor(LoanDurationCategory)\n",
        "  )\n",
        "\n",
        "# Ensure IsDefault in german_credit_df_prepared_for_predict is a factor\n",
        "german_credit_df_prepared_for_predict$IsDefault <- factor(german_credit_df_prepared_for_predict$IsDefault, levels = c(\"Good\", \"Default\"))\n",
        "\n",
        "\n",
        "german_credit_df_final <- german_credit_df # Start with original for adding new columns\n",
        "german_credit_df_final$PredictedDefaultProb <- predict(rf_model, newdata = german_credit_df_prepared_for_predict, type = \"prob\")[,\"Default\"]"
      ],
      "metadata": {
        "id": "L8ShYFyP_zPY"
      },
      "execution_count": null,
      "outputs": []
    },
    {
      "cell_type": "code",
      "source": [
        "# Define thresholds for risk tiers. These are business decisions!\n",
        "# Example thresholds:\n",
        "# < 0.20 probability = Low Risk\n",
        "# 0.20 to < 0.40 probability = Medium Risk\n",
        "# >= 0.40 probability = High Risk\n",
        "german_credit_df_final$Risk_Tier <- cut(german_credit_df_final$PredictedDefaultProb,\n",
        "                                        breaks = c(-Inf, 0.20, 0.40, Inf),\n",
        "                                        labels = c(\"Low Risk\", \"Medium Risk\", \"High Risk\"),\n",
        "                                        right = TRUE, include.lowest = TRUE)\n",
        "\n",
        "# Check distribution of risk tiers\n",
        "table(german_credit_df_final$Risk_Tier)"
      ],
      "metadata": {
        "id": "p72jgM3G_3YC"
      },
      "execution_count": null,
      "outputs": []
    },
    {
      "cell_type": "code",
      "source": [
        "# For Random Forest:\n",
        "importance_rf <- varImp(rf_model, scale = FALSE) # scale=FALSE gives raw importance\n",
        "print(importance_rf)\n",
        "# You might want to convert this to a data frame and sort.\n",
        "# For GBM: summary(gbm_model$finalModel)\n",
        "\n",
        "# Convert to data frame for BigQuery push\n",
        "feature_importance_df <- as.data.frame(importance_rf$importance)\n",
        "feature_importance_df$Feature <- rownames(feature_importance_df)\n",
        "colnames(feature_importance_df)[1] <- \"Importance\" # Rename first column\n",
        "feature_importance_df <- feature_importance_df %>%\n",
        "  arrange(desc(Importance)) %>%\n",
        "  select(Feature, Importance) # Reorder columns"
      ],
      "metadata": {
        "id": "bfBz4dJ4_6Q7"
      },
      "execution_count": null,
      "outputs": []
    },
    {
      "cell_type": "code",
      "source": [
        "# Make sure to handle factors/characters for BigQuery compatibility\n",
        "german_credit_df_to_bq <- german_credit_df_final %>% # Use german_credit_df_final here\n",
        "  mutate_if(is.factor, as.character) %>%\n",
        "  mutate(IsDefault = ifelse(IsDefault == \"Default\", 1, 0)) # Convert back to 0/1 for BQ\n",
        "\n",
        "# Writing to a NEW BigQuery table to avoid schema conflicts from previous stages\n",
        "dbWriteTable(con,\n",
        "             name = \"german_credit_r_analyzed_final\", # Changed table name to avoid conflict\n",
        "             value = german_credit_df_to_bq,\n",
        "             overwrite = TRUE) # BE CAREFUL with overwrite, make sure you're writing to a NEW table\n",
        "\n",
        "# Write the model metrics table (for all models)\n",
        "dbWriteTable(con,\n",
        "             name = \"all_model_metrics_summary\", # Table for all model metrics (LR, RF, GBM)\n",
        "             value = all_model_metrics,\n",
        "             overwrite = TRUE)\n",
        "\n",
        "# Write the feature importance table (using the best model's importance)\n",
        "dbWriteTable(con,\n",
        "             name = \"best_model_feature_importance\", # Table for feature importance\n",
        "             value = feature_importance_df,\n",
        "             overwrite = TRUE)\n"
      ],
      "metadata": {
        "id": "4oeg5IDS_9Tn"
      },
      "execution_count": null,
      "outputs": []
    },
    {
      "cell_type": "code",
      "source": [
        "install.packages(\"PRROC\")\n",
        "library(PRROC)\n",
        "\n",
        "# Ensure 'test_df_model_eval' and 'predictions_rf_prob' are available in your R environment.\n",
        "# These variables should have been created in the earlier phases of your analysis (Phase 3.2).\n",
        "\n",
        "# Calculate Precision-Recall points for plotting\n",
        "if (exists(\"test_df_model_eval\") && exists(\"predictions_rf_prob\")) {\n",
        "  pr_curve <- pr.curve(scores.class0 = predictions_rf_prob[test_df_model_eval$IsDefault == \"Default\"],\n",
        "                       scores.class1 = predictions_rf_prob[test_df_model_eval$IsDefault == \"Good\"],\n",
        "                       curve = TRUE)\n",
        "\n",
        "  # Extract precision and recall points\n",
        "  pr_data <- as.data.frame(pr_curve$curve)\n",
        "  colnames(pr_data) <- c(\"Recall\", \"Precision\", \"Threshold\")\n",
        "\n",
        "  # Print the first few rows of the precision-recall data\n",
        "  print(head(pr_data))\n",
        "\n",
        "  # Note: To push this 'pr_data' to BigQuery, you would need to ensure your\n",
        "  # BigQuery connection 'con' is active and then use dbWriteTable.\n",
        "  # Example (assuming 'con' is established):\n",
        "  # dbWriteTable(con,\n",
        "  #              name = \"precision_recall_tradeoff\",\n",
        "  #              value = pr_data,\n",
        "  #              overwrite = TRUE)\n",
        "\n",
        "} else {\n",
        "  print(\"Cannot generate Precision-Recall curve data: test_df_model_eval or predictions_rf_prob not found. Please ensure previous steps in Phase 3.2 have been run.\")\n",
        "}"
      ],
      "metadata": {
        "id": "qyNeAonGVQ3S"
      },
      "execution_count": null,
      "outputs": []
    },
    {
      "cell_type": "code",
      "source": [
        "# Ensure test_df_model_eval is prepared and predictions are available from Phase 3.2\n",
        "\n",
        "# Combine predicted probabilities for all models\n",
        "prob_distribution_data <- data.frame(\n",
        "  PredictedProb = c(predictions_lr_prob, predictions_rf_prob, predictions_gbm_prob),\n",
        "  ActualStatus = rep(test_df_model_eval$IsDefault, 3), # Repeat actual status for each model\n",
        "  Model = c(rep(\"Logistic Regression\", length(predictions_lr_prob)),\n",
        "            rep(\"Random Forest\", length(predictions_rf_prob)),\n",
        "            rep(\"GBM\", length(predictions_gbm_prob)))\n",
        ")\n",
        "\n",
        "# Convert ActualStatus back to 0/1 for BigQuery compatibility if needed\n",
        "prob_distribution_data$ActualStatus <- ifelse(prob_distribution_data$ActualStatus == \"Default\", 1, 0)\n",
        "\n",
        "# Push to BigQuery\n",
        "# Ensure 'con' (BigQuery connection) is active\n",
        "dbWriteTable(con,\n",
        "             name = \"predicted_prob_distributions\",\n",
        "             value = prob_distribution_data,\n",
        "             overwrite = TRUE)\n",
        "\n",
        "print(\"Predicted probability distribution data pushed to BigQuery as 'predicted_prob_distributions'.\")"
      ],
      "metadata": {
        "id": "jIvmIW95oNSF"
      },
      "execution_count": null,
      "outputs": []
    },
    {
      "cell_type": "code",
      "source": [
        "# Ensure test_df_model_eval and predictions (prob & class) for all models are available from Phase 3.2\n",
        "\n",
        "calculate_f1_curve <- function(actual, predicted_prob, model_name) {\n",
        "  thresholds <- seq(0.05, 0.95, by = 0.01) # Define a range of thresholds\n",
        "  f1_scores <- numeric(length(thresholds))\n",
        "  precision_scores <- numeric(length(thresholds))\n",
        "  recall_scores <- numeric(length(thresholds))\n",
        "\n",
        "  for (i in seq_along(thresholds)) {\n",
        "    threshold <- thresholds[i]\n",
        "    predicted_class_at_threshold <- factor(ifelse(predicted_prob > threshold, \"Default\", \"Good\"), levels = c(\"Good\", \"Default\"))\n",
        "    cm <- confusionMatrix(predicted_class_at_threshold, actual, positive = \"Default\")\n",
        "\n",
        "    # Handle cases where a metric might be NaN (e.g., no positive predictions)\n",
        "    precision_val <- ifelse(is.na(cm$byClass['Pos Pred Value']), 0, cm$byClass['Pos Pred Value'])\n",
        "    recall_val <- ifelse(is.na(cm$byClass['Sensitivity']), 0, cm$byClass['Sensitivity'])\n",
        "\n",
        "    # Calculate F1-score, handle division by zero\n",
        "    f1_scores[i] <- ifelse((precision_val + recall_val) == 0, 0, 2 * (precision_val * recall_val) / (precision_val + recall_val))\n",
        "    precision_scores[i] <- precision_val\n",
        "    recall_scores[i] <- recall_val\n",
        "  }\n",
        "\n",
        "  data.frame(\n",
        "    Model = model_name,\n",
        "    Threshold = thresholds,\n",
        "    F1_Score = f1_scores,\n",
        "    Precision = precision_scores,\n",
        "    Recall = recall_scores # Include for potential future use or tooltip\n",
        "  )\n",
        "}\n",
        "\n",
        "f1_lr_data <- calculate_f1_curve(test_df_model_eval$IsDefault, predictions_lr_prob, \"Logistic Regression\")\n",
        "f1_rf_data <- calculate_f1_curve(test_df_model_eval$IsDefault, predictions_rf_prob, \"Random Forest\")\n",
        "f1_gbm_data <- calculate_f1_curve(test_df_model_eval$IsDefault, predictions_gbm_prob, \"GBM\")\n",
        "\n",
        "all_f1_data <- rbind(f1_lr_data, f1_rf_data, f1_gbm_data)\n",
        "\n",
        "# Push to BigQuery\n",
        "# Ensure 'con' (BigQuery connection) is active\n",
        "dbWriteTable(con,\n",
        "             name = \"f1_score_by_threshold\",\n",
        "             value = all_f1_data,\n",
        "             overwrite = TRUE)\n",
        "\n",
        "print(\"F1-score by threshold data pushed to BigQuery as 'f1_score_by_threshold'.\")"
      ],
      "metadata": {
        "id": "MJ04_usGoOyP"
      },
      "execution_count": null,
      "outputs": []
    },
    {
      "cell_type": "code",
      "source": [
        "# Ensure test_df_model_eval and predictions (prob) for all models are available from Phase 3.2\n",
        "\n",
        "calculate_gains_curve <- function(actual, predicted_prob, model_name) {\n",
        "  df <- data.frame(actual = actual, predicted_prob = predicted_prob)\n",
        "  df <- df[order(-df$predicted_prob), ] # Sort by predicted probability descendingj=\n",
        "\n",
        "  n_total <- nrow(df)\n",
        "  n_defaults_total <- sum(df$actual == \"Default\")\n",
        "\n",
        "  cumulative_gains <- data.frame()\n",
        "\n",
        "  for (i in 1:100) { # Calculate for every 1% of the population\n",
        "    percent_population <- i / 100\n",
        "    num_records_to_consider <- floor(n_total * percent_population)\n",
        "    if (num_records_to_consider == 0) next # Skip if no records for this percentage\n",
        "\n",
        "    subset_df <- head(df, num_records_to_consider)\n",
        "    cumulative_defaults_captured <- sum(subset_df$actual == \"Default\")\n",
        "\n",
        "    # Percentage of total defaults captured\n",
        "    percent_defaults_captured <- (cumulative_defaults_captured / n_defaults_total) * 100\n",
        "\n",
        "    cumulative_gains <- rbind(cumulative_gains, data.frame(\n",
        "      Model = model_name,\n",
        "      PercentPopulation = percent_population * 100,\n",
        "      PercentDefaultsCaptured = percent_defaults_captured\n",
        "    ))\n",
        "  }\n",
        "  return(cumulative_gains)\n",
        "}\n",
        "\n",
        "gains_lr_data <- calculate_gains_curve(test_df_model_eval$IsDefault, predictions_lr_prob, \"Logistic Regression\")\n",
        "gains_rf_data <- calculate_gains_curve(test_df_model_eval$IsDefault, predictions_rf_prob, \"Random Forest\")\n",
        "gains_gbm_data <- calculate_gains_curve(test_df_model_eval$IsDefault, predictions_gbm_prob, \"GBM\")\n",
        "\n",
        "all_gains_data <- rbind(gains_lr_data, gains_rf_data, gains_gbm_data)\n",
        "\n",
        "# Add a random baseline\n",
        "random_baseline <- data.frame(\n",
        "  Model = \"Random Baseline\",\n",
        "  PercentPopulation = seq(1, 100, by = 1),\n",
        "  PercentDefaultsCaptured = seq(1, 100, by = 1)\n",
        ")\n",
        "all_gains_data <- rbind(all_gains_data, random_baseline)\n",
        "\n",
        "\n",
        "# Push to BigQuery\n",
        "# Ensure 'con' (BigQuery connection) is active\n",
        "dbWriteTable(con,\n",
        "             name = \"cumulative_gains_data\",\n",
        "             value = all_gains_data,\n",
        "             overwrite = TRUE)\n",
        "\n",
        "print(\"Cumulative gains data pushed to BigQuery as 'cumulative_gains_data'.\")"
      ],
      "metadata": {
        "id": "Rsr_UxUsoXjG"
      },
      "execution_count": null,
      "outputs": []
    },
    {
      "cell_type": "code",
      "source": [
        "# R Code for preparing data for \"Cumulative Lift by Model\" chart\n",
        "\n",
        "# This code snippet assumes that 'test_df_model_eval' and\n",
        "# predicted probabilities (predictions_lr_prob, predictions_rf_prob, predictions_gbm_prob)\n",
        "# are already available in your R environment from Phase 3.2.\n",
        "# It also assumes 'con' (BigQuery connection) is active.\n",
        "\n",
        "# Function to calculate data points for a Lift Curve\n",
        "calculate_lift_curve <- function(actual, predicted_prob, model_name) {\n",
        "  df <- data.frame(actual = actual, predicted_prob = predicted_prob)\n",
        "  df <- df[order(-df$predicted_prob), ] # Sort by predicted probability descending\n",
        "\n",
        "  n_total <- nrow(df)\n",
        "  n_defaults_total <- sum(df$actual == \"Default\")\n",
        "\n",
        "  lift_data <- data.frame()\n",
        "\n",
        "  # Calculate for every 1% of the population\n",
        "  for (i in 1:100) {\n",
        "    percent_population_val <- i / 100\n",
        "    num_records_to_consider <- floor(n_total * percent_population_val)\n",
        "\n",
        "    if (num_records_to_consider == 0) {\n",
        "      # Handle cases where percentage is too small for any records\n",
        "      cumulative_defaults_captured <- 0\n",
        "    } else {\n",
        "      subset_df <- head(df, num_records_to_consider)\n",
        "      cumulative_defaults_captured <- sum(subset_df$actual == \"Default\")\n",
        "    }\n",
        "\n",
        "    # Percentage of total defaults captured\n",
        "    percent_defaults_captured_val <- ifelse(n_defaults_total == 0, 0, (cumulative_defaults_captured / n_defaults_total) * 100)\n",
        "\n",
        "    # Calculate Lift\n",
        "    # Avoid division by zero if PercentPopulation is 0 (first point)\n",
        "    lift_val <- ifelse(percent_population_val == 0, 0, percent_defaults_captured_val / (percent_population_val * 100))\n",
        "\n",
        "    lift_data <- rbind(lift_data, data.frame(\n",
        "      Model = model_name,\n",
        "      PercentPopulation = percent_population_val * 100, # Convert to 0-100 scale for plotting\n",
        "      PercentDefaultsCaptured = percent_defaults_captured_val,\n",
        "      Lift = lift_val\n",
        "    ))\n",
        "  }\n",
        "  return(lift_data)\n",
        "}\n",
        "\n",
        "# Calculate Lift data for each model\n",
        "lift_lr_data <- calculate_lift_curve(test_df_model_eval$IsDefault, predictions_lr_prob, \"Logistic Regression\")\n",
        "lift_rf_data <- calculate_lift_curve(test_df_model_eval$IsDefault, predictions_rf_prob, \"Random Forest\")\n",
        "lift_gbm_data <- calculate_lift_curve(test_df_model_eval$IsDefault, predictions_gbm_prob, \"GBM\")\n",
        "\n",
        "# Combine all model lift data\n",
        "all_lift_data <- rbind(lift_lr_data, lift_rf_data, lift_gbm_data)\n",
        "\n",
        "# Add a random baseline (Lift = 1 for all population percentages)\n",
        "random_baseline_lift <- data.frame(\n",
        "  Model = \"Random Baseline\",\n",
        "  PercentPopulation = seq(1, 100, by = 1),\n",
        "  PercentDefaultsCaptured = seq(1, 100, by = 1), # For consistency, though not strictly needed for Lift calc\n",
        "  Lift = 1 # Random baseline has a lift of 1\n",
        ")\n",
        "all_lift_data <- rbind(all_lift_data, random_baseline_lift)\n",
        "\n",
        "# Push the combined Lift data to BigQuery\n",
        "# Ensure 'con' is the active BigQuery connection\n",
        "dbWriteTable(con,\n",
        "             name = \"cumulative_lift_data\", # New table name for lift data\n",
        "             value = all_lift_data,\n",
        "             overwrite = TRUE)\n",
        "\n",
        "print(\"Cumulative Lift data pushed to BigQuery as 'cumulative_lift_data'.\")"
      ],
      "metadata": {
        "id": "6MpL-_Ibhdj7"
      },
      "execution_count": null,
      "outputs": []
    }
  ],
  "metadata": {
    "colab": {
      "provenance": []
    },
    "kernelspec": {
      "display_name": "R",
      "name": "ir"
    },
    "language_info": {
      "name": "R"
    }
  },
  "nbformat": 4,
  "nbformat_minor": 0
}